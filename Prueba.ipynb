{
 "cells": [
  {
   "cell_type": "code",
   "execution_count": null,
   "metadata": {},
   "outputs": [],
   "source": [
    "import joblib\n",
    "import numpy as np\n",
    "import pandas as pd\n",
    "\n",
    "# Cargar los modelos y transformaciones guardadas\n",
    "rf_gain_model = joblib.load(\"optimized_rf_gain.pkl\")\n",
    "rf_stay_model = joblib.load(\"optimized_rf_stay.pkl\")\n",
    "label_encoder_service = joblib.load(\"label_encoder_service.pkl\")\n",
    "label_encoder_diagnosis = joblib.load(\"label_encoder_diagnosis.pkl\")\n",
    "label_encoder_convenio = joblib.load(\"label_encoder_convenio.pkl\")\n",
    "scaler = joblib.load(\"scaler.pkl\")\n",
    "\n",
    "# Función para hacer predicciones\n",
    "def predict_gain_and_stay(service, diagnosis, convenio):\n",
    "    # Codificar las entradas categóricas\n",
    "    service_encoded = label_encoder_service.transform([service])\n",
    "    diagnosis_encoded = label_encoder_diagnosis.transform([diagnosis])\n",
    "    convenio_encoded = label_encoder_convenio.transform([convenio])\n",
    "    \n",
    "    # Crear matriz de características\n",
    "    features = pd.DataFrame({\n",
    "        'IR GRD': diagnosis_encoded,\n",
    "        'SERVICIO INGRESO': service_encoded,\n",
    "        'CONVENIO': convenio_encoded\n",
    "    })\n",
    "    features_scaled = scaler.transform(features)\n",
    "    \n",
    "    # Hacer predicciones\n",
    "    predicted_gain = rf_gain_model.predict(features_scaled)\n",
    "    predicted_stay = rf_stay_model.predict(features_scaled)\n",
    "    \n",
    "    return predicted_gain[0], predicted_stay[0]\n",
    "\n",
    "# Ejemplo de prueba\n",
    "service_input = \"NEONATOLOGIA\"  # Cambia por el servicio deseado\n",
    "diagnosis_input = \"111202 - PH OPERACIONES DEL TRACTO URINARIO SUPERIOR W/CC\"  # Cambia por el diagnóstico deseado\n",
    "convenio_input = \"GRD UGCC\"  # Cambia por el convenio deseado\n",
    "\n",
    "predicted_gain, predicted_stay = predict_gain_and_stay(service_input, diagnosis_input, convenio_input)\n",
    "\n",
    "print(f\"Predicción de GANANCIA para el servicio '{service_input}', diagnóstico '{diagnosis_input}' y convenio '{convenio_input}': {predicted_gain}\")\n",
    "print(f\"Predicción de ESTANCIA para el servicio '{service_input}', diagnóstico '{diagnosis_input}' y convenio '{convenio_input}': {predicted_stay}\")\n"
   ]
  }
 ],
 "metadata": {
  "language_info": {
   "name": "python"
  }
 },
 "nbformat": 4,
 "nbformat_minor": 2
}
